{
 "cells": [
  {
   "cell_type": "code",
   "execution_count": 1,
   "id": "fad68821-83b1-4d40-b964-1abb4e3cb289",
   "metadata": {},
   "outputs": [
    {
     "name": "stdout",
     "output_type": "stream",
     "text": [
      "Collecting pulp\n",
      "  Downloading pulp-3.2.1-py3-none-any.whl.metadata (6.9 kB)\n",
      "Downloading pulp-3.2.1-py3-none-any.whl (16.4 MB)\n",
      "   ---------------------------------------- 0.0/16.4 MB ? eta -:--:--\n",
      "   -- ------------------------------------- 1.0/16.4 MB 7.1 MB/s eta 0:00:03\n",
      "   -------- ------------------------------- 3.7/16.4 MB 10.9 MB/s eta 0:00:02\n",
      "   ------------ --------------------------- 5.0/16.4 MB 8.9 MB/s eta 0:00:02\n",
      "   ---------------- ----------------------- 6.6/16.4 MB 8.6 MB/s eta 0:00:02\n",
      "   ------------------- -------------------- 8.1/16.4 MB 8.4 MB/s eta 0:00:01\n",
      "   -------------------------- ------------- 11.0/16.4 MB 9.2 MB/s eta 0:00:01\n",
      "   ------------------------------ --------- 12.3/16.4 MB 9.0 MB/s eta 0:00:01\n",
      "   ------------------------------------- -- 15.2/16.4 MB 9.4 MB/s eta 0:00:01\n",
      "   ---------------------------------------  16.0/16.4 MB 9.0 MB/s eta 0:00:01\n",
      "   ---------------------------------------- 16.4/16.4 MB 8.2 MB/s eta 0:00:00\n",
      "Installing collected packages: pulp\n",
      "Successfully installed pulp-3.2.1\n"
     ]
    }
   ],
   "source": [
    "# Step 1: Install PuLP \n",
    "!pip install pulp\n"
   ]
  },
  {
   "cell_type": "code",
   "execution_count": 5,
   "id": "db31e2ab-9956-4467-b42f-84261df8b73b",
   "metadata": {},
   "outputs": [],
   "source": [
    "# Import PuLP\n",
    "from pulp import *\n"
   ]
  },
  {
   "cell_type": "code",
   "execution_count": 7,
   "id": "1f7cfdf0-1f51-4e15-a2a4-48e20fc5aeb6",
   "metadata": {},
   "outputs": [],
   "source": [
    "# Define the problem\n",
    "model = LpProblem(\"Maximize_Profit\", LpMaximize)\n"
   ]
  },
  {
   "cell_type": "code",
   "execution_count": 9,
   "id": "ecc5c899-485a-47f5-af59-231b6b2b7d1b",
   "metadata": {},
   "outputs": [],
   "source": [
    "# Define decision variables\n",
    "x = LpVariable('Product_A', lowBound=0, cat='Continuous')\n",
    "y = LpVariable('Product_B', lowBound=0, cat='Continuous')\n"
   ]
  },
  {
   "cell_type": "code",
   "execution_count": 11,
   "id": "b350930a-ef1d-4705-9738-a802ef243b7f",
   "metadata": {},
   "outputs": [],
   "source": [
    "# Objective Function\n",
    "model += 40 * x + 50 * y, \"Total Profit\"\n"
   ]
  },
  {
   "cell_type": "code",
   "execution_count": 13,
   "id": "d4b2a38b-b5ef-4057-b029-bc7b4c5ed7c2",
   "metadata": {},
   "outputs": [],
   "source": [
    "# Add constraints\n",
    "model += 2 * x + 3 * y <= 100, \"Labor Constraint\"\n",
    "model += x + 2 * y <= 80, \"Material Constraint\"\n"
   ]
  },
  {
   "cell_type": "code",
   "execution_count": 15,
   "id": "457cf613-647e-4cef-8191-80ab75fd4283",
   "metadata": {},
   "outputs": [
    {
     "data": {
      "text/plain": [
       "1"
      ]
     },
     "execution_count": 15,
     "metadata": {},
     "output_type": "execute_result"
    }
   ],
   "source": [
    "# Solve the problem\n",
    "model.solve()\n"
   ]
  },
  {
   "cell_type": "code",
   "execution_count": 17,
   "id": "5ea628b2-cea7-438a-b44a-d297462c40a0",
   "metadata": {},
   "outputs": [
    {
     "name": "stdout",
     "output_type": "stream",
     "text": [
      "Status: Optimal\n",
      "Optimal units of Product A to produce: 50.0\n",
      "Optimal units of Product B to produce: 0.0\n",
      "Maximum Profit: ₹2000.0\n"
     ]
    }
   ],
   "source": [
    "# Display results\n",
    "print(\"Status:\", LpStatus[model.status])\n",
    "print(f\"Optimal units of Product A to produce: {x.varValue}\")\n",
    "print(f\"Optimal units of Product B to produce: {y.varValue}\")\n",
    "print(f\"Maximum Profit: ₹{value(model.objective)}\")\n"
   ]
  },
  {
   "cell_type": "code",
   "execution_count": null,
   "id": "9588a451-9ca4-48d6-97c8-9313269b0214",
   "metadata": {},
   "outputs": [],
   "source": []
  }
 ],
 "metadata": {
  "kernelspec": {
   "display_name": "Python 3 (ipykernel)",
   "language": "python",
   "name": "python3"
  },
  "language_info": {
   "codemirror_mode": {
    "name": "ipython",
    "version": 3
   },
   "file_extension": ".py",
   "mimetype": "text/x-python",
   "name": "python",
   "nbconvert_exporter": "python",
   "pygments_lexer": "ipython3",
   "version": "3.12.4"
  }
 },
 "nbformat": 4,
 "nbformat_minor": 5
}
